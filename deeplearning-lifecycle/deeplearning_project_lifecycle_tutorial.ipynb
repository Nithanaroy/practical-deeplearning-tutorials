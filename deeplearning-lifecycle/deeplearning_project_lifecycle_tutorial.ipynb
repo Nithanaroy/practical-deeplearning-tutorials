{
 "cells": [
  {
   "cell_type": "markdown",
   "metadata": {},
   "source": [
    "# Tensorflow Keras Model with Dataset API, Tensorboard, Profiling, Testing\n",
    "\n",
    "In this short tutorial we will go over some important concepts which can be used in a deep learning project. We'll see why & how to set up a custom input pipeline using tf.dataset API, build a model using tf.keras API, watch the model training using tensorboard, profile the model to check resource utilization numbers and finally validate the model to see what it learned makes sense using 3 important techniques. Lots of exciting stuff, so lets get started!"
   ]
  },
  {
   "cell_type": "markdown",
   "metadata": {},
   "source": [
    "## Development Environment"
   ]
  },
  {
   "cell_type": "markdown",
   "metadata": {},
   "source": [
    "Having a good development environment makes the experience smooth and fast to iterate. In this section, we will see some tips on setting up notebooks, environments and versioning your project."
   ]
  },
  {
   "cell_type": "markdown",
   "metadata": {},
   "source": [
    "### Jupyter Notebooks"
   ]
  },
  {
   "cell_type": "markdown",
   "metadata": {},
   "source": [
    "[Jupyter notebooks](https://jupyter-notebook-beginner-guide.readthedocs.io/en/latest/), such as this document, need not introduction for their ease of use and immense abilities to code, document and visualize in a single place. \n",
    "\n",
    "However, [code reviewing](https://en.wikipedia.org/wiki/Code_review) a jupyter notebook can be challenging in an office project, at least as of Sep 2018, as the source file (.ipynb) has a lot of meta information other the code we write. If this is not a requirement for you, safely skip this section, but it might be a good practice to set it up as it is not that hard. \n",
    "\n",
    "A simple solution to code review problem is to auto generate the corresponding python file and get that reviewed instead. HTML file can also be generate to quickly view the visual contents of the notebook (charts and images) as well in any browser. To achieve this replace the file at **~/.jupyter/jupyter_notebook_config.py** with the one in this folder. The file adds simple hooks which save the python and HTML files in a sub folder (to the .ipynb file) called \"auto-generated\" whenever .ipynb file is saved."
   ]
  }
 ],
 "metadata": {
  "kernelspec": {
   "display_name": "Python 3",
   "language": "python",
   "name": "python3"
  },
  "language_info": {
   "codemirror_mode": {
    "name": "ipython",
    "version": 3
   },
   "file_extension": ".py",
   "mimetype": "text/x-python",
   "name": "python",
   "nbconvert_exporter": "python",
   "pygments_lexer": "ipython3",
   "version": "3.6.6"
  },
  "toc": {
   "base_numbering": 1,
   "nav_menu": {},
   "number_sections": false,
   "sideBar": true,
   "skip_h1_title": false,
   "title_cell": "Table of Contents",
   "title_sidebar": "Contents",
   "toc_cell": false,
   "toc_position": {
    "height": "calc(100% - 180px)",
    "left": "10px",
    "top": "150px",
    "width": "215px"
   },
   "toc_section_display": true,
   "toc_window_display": true
  },
  "varInspector": {
   "cols": {
    "lenName": 16,
    "lenType": 16,
    "lenVar": 40
   },
   "kernels_config": {
    "python": {
     "delete_cmd_postfix": "",
     "delete_cmd_prefix": "del ",
     "library": "var_list.py",
     "varRefreshCmd": "print(var_dic_list())"
    },
    "r": {
     "delete_cmd_postfix": ") ",
     "delete_cmd_prefix": "rm(",
     "library": "var_list.r",
     "varRefreshCmd": "cat(var_dic_list()) "
    }
   },
   "types_to_exclude": [
    "module",
    "function",
    "builtin_function_or_method",
    "instance",
    "_Feature"
   ],
   "window_display": false
  }
 },
 "nbformat": 4,
 "nbformat_minor": 2
}
